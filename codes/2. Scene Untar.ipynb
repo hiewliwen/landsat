{
 "cells": [
  {
   "cell_type": "code",
   "execution_count": null,
   "id": "38c65bb5-fbf8-445b-85e8-14d5a08f45a9",
   "metadata": {},
   "outputs": [],
   "source": [
    "from utils import untar_scenes"
   ]
  },
  {
   "cell_type": "code",
   "execution_count": null,
   "id": "1793a81a-a001-4203-90fa-d618e7465fe4",
   "metadata": {},
   "outputs": [],
   "source": [
    "folder_path = ''"
   ]
  },
  {
   "cell_type": "code",
   "execution_count": null,
   "id": "3467281f-b01a-4521-b58d-cc13d7134721",
   "metadata": {},
   "outputs": [],
   "source": [
    "untar_scenes(folder_path, check_exist=True, pbar=True)"
   ]
  },
  {
   "cell_type": "code",
   "execution_count": null,
   "id": "0fb9d801-76b1-4f6a-af0d-78e191999371",
   "metadata": {},
   "outputs": [],
   "source": []
  }
 ],
 "metadata": {
  "kernelspec": {
   "display_name": "Python 3 (ipykernel)",
   "language": "python",
   "name": "python3"
  },
  "language_info": {
   "codemirror_mode": {
    "name": "ipython",
    "version": 3
   },
   "file_extension": ".py",
   "mimetype": "text/x-python",
   "name": "python",
   "nbconvert_exporter": "python",
   "pygments_lexer": "ipython3",
   "version": "3.9.13"
  }
 },
 "nbformat": 4,
 "nbformat_minor": 5
}
