{
 "cells": [
  {
   "cell_type": "code",
   "execution_count": 1,
   "id": "38c65bb5-fbf8-445b-85e8-14d5a08f45a9",
   "metadata": {},
   "outputs": [],
   "source": [
    "from utils import untar_scenes"
   ]
  },
  {
   "cell_type": "code",
   "execution_count": 2,
   "id": "3467281f-b01a-4521-b58d-cc13d7134721",
   "metadata": {},
   "outputs": [
    {
     "name": "stdout",
     "output_type": "stream",
     "text": [
      "Extracting LC08_L1GT_125059_20210804_20210811_02_T2\n",
      "Extracting LC08_L1GT_125059_20210820_20210827_02_T2\n",
      "Extracting LC08_L1GT_125059_20211108_20211117_02_T2\n",
      "Extracting LC08_L1GT_125059_20211124_20211201_02_T2\n",
      "Extracting LC08_L1TP_103014_20220610_20220610_02_RT\n",
      "Extracting LC08_L1TP_125059_20210124_20210305_02_T1\n",
      "Extracting LC08_L1TP_125059_20210209_20210302_02_T1\n",
      "Extracting LC08_L1TP_125059_20210225_20210304_02_T1\n",
      "Extracting LC08_L1TP_125059_20210313_20210318_02_T1\n",
      "Extracting LC08_L1TP_125059_20210329_20210402_02_T1\n",
      "Extracting LC08_L1TP_125059_20210414_20210423_02_T1\n",
      "Extracting LC08_L1TP_125059_20210430_20210508_02_T1\n",
      "Extracting LC08_L1TP_125059_20210516_20210525_02_T1\n",
      "Extracting LC08_L1TP_125059_20210601_20210608_02_T1\n",
      "Extracting LC08_L1TP_125059_20210617_20210622_02_T1\n",
      "Extracting LC08_L1TP_125059_20210703_20210712_02_T1\n",
      "Extracting LC08_L1TP_125059_20210719_20210729_02_T1\n",
      "Extracting LC08_L1TP_125059_20210905_20210910_02_T1\n",
      "Extracting LC08_L1TP_125059_20210921_20210925_02_T1\n",
      "Extracting LC08_L1TP_125059_20211007_20211013_02_T1\n",
      "Extracting LC08_L1TP_125059_20211023_20211103_02_T1\n",
      "Extracting LC08_L1TP_125059_20211210_20211215_02_T1\n",
      "Extracting LC08_L1TP_125059_20211226_20211230_02_T1\n"
     ]
    }
   ],
   "source": [
    "untar_scenes(r'D:\\2021', \n",
    "             check_exist=True, pbar=False)"
   ]
  },
  {
   "cell_type": "code",
   "execution_count": null,
   "id": "0fb9d801-76b1-4f6a-af0d-78e191999371",
   "metadata": {},
   "outputs": [],
   "source": []
  }
 ],
 "metadata": {
  "kernelspec": {
   "display_name": "Python 3",
   "language": "python",
   "name": "python3"
  },
  "language_info": {
   "codemirror_mode": {
    "name": "ipython",
    "version": 3
   },
   "file_extension": ".py",
   "mimetype": "text/x-python",
   "name": "python",
   "nbconvert_exporter": "python",
   "pygments_lexer": "ipython3",
   "version": "3.8.10"
  }
 },
 "nbformat": 4,
 "nbformat_minor": 5
}
