{
 "cells": [
  {
   "cell_type": "markdown",
   "id": "a9394135-af06-433c-bbe1-9e10b7e25661",
   "metadata": {},
   "source": [
    "https://github.com/yannforget/landsatxplore"
   ]
  },
  {
   "cell_type": "markdown",
   "id": "fccfb261-ad25-4f59-8f79-6b94c3c344a5",
   "metadata": {},
   "source": [
    "    LXSS_LLLL_PPPRRR_YYYYMMDD_yyyymmdd_CC_TX\n",
    "\n",
    "    Where:\n",
    "\n",
    "    L = Landsat\n",
    "    X = Sensor (“C”=OLI/TIRS combined, “O”=OLI-only, “T”=TIRS-only, “E”=ETM+, “T”=“TM, “M”=MSS)\n",
    "    SS = Satellite (”07”=Landsat 7, “08”=Landsat 8)\n",
    "    LLLL = Processing correction level (L1TP/L1GT/L1GS)\n",
    "    PPP = WRS path\n",
    "    RRR = WRS row\n",
    "    YYYYMMDD = Acquisition year, month, day\n",
    "    yyyymmdd - Processing year, month, day\n",
    "    CC = Collection number (01, 02, …)\n",
    "    TX = Collection category (“RT”=Real-Time, “T1”=Tier 1, “T2”=Tier 2)"
   ]
  },
  {
   "cell_type": "markdown",
   "id": "27d44d0f-84a0-4c3d-9454-ba700c2af2fb",
   "metadata": {},
   "source": [
    "|             Dataset Name            |     Dataset ID    |\n",
    "|:-----------------------------------:|:-----------------:|\n",
    "| Landsat 5 TM Collection 1 Level 1   | landsat_tm_c1     |\n",
    "| Landsat 5 TM Collection 2 Level 1   | landsat_tm_c2_l1  |\n",
    "| Landsat 5 TM Collection 2 Level 2   | landsat_tm_c2_l2  |\n",
    "| Landsat 7 ETM+ Collection 1 Level 1 | landsat_etm_c1    |\n",
    "| Landsat 7 ETM+ Collection 2 Level 1 | landsat_etm_c2_l1 |\n",
    "| Landsat 7 ETM+ Collection 2 Level 2 | landsat_etm_c2_l2 |\n",
    "| Landsat 8 Collection 1 Level 1      | landsat_8_c1      |\n",
    "| Landsat 8 Collection 2 Level 1      | landsat_ot_c2_l1  |\n",
    "| Landsat 8 Collection 2 Level 2      | landsat_ot_c2_l2  |\n",
    "| Sentinel 2A                         | sentinel_2a       |"
   ]
  },
  {
   "cell_type": "code",
   "execution_count": 1,
   "id": "37fbe17e-1736-4a43-9263-9ea62895fe46",
   "metadata": {},
   "outputs": [],
   "source": [
    "import CONFIG\n",
    "from utils import get_scenes, load_scenes, save_scenes, scenes_summary, download_scenes, split_scenes"
   ]
  },
  {
   "cell_type": "code",
   "execution_count": 16,
   "id": "faf6b649-7578-4989-90ea-05cc5d874568",
   "metadata": {},
   "outputs": [],
   "source": [
    "USERNAME = CONFIG.USERNAME\n",
    "PASSWORD = CONFIG.PASSWORD\n",
    "\n",
    "SEARCH_START_DATE = '2015-12-26'\n",
    "SEARCH_END_DATE = '2016-01-11'\n",
    "DATASET_ID = 'landsat_8_c1'\n",
    "DOWNLOAD_PATH = r\"\\\\TOEJO-NAS-DS415\\toejo\"\n"
   ]
  },
  {
   "cell_type": "code",
   "execution_count": 17,
   "id": "cdbd95b1-5897-4e76-879b-e98448e67d9d",
   "metadata": {},
   "outputs": [],
   "source": [
    "# Get scenes\n",
    "scenes = get_scenes(USERNAME, PASSWORD, DATASET_ID, SEARCH_START_DATE, SEARCH_END_DATE)"
   ]
  },
  {
   "cell_type": "code",
   "execution_count": 18,
   "id": "d12394ea-695f-4b4c-968f-59c762251ecf",
   "metadata": {},
   "outputs": [],
   "source": [
    "# load scenes\n",
    "# scenes = load_scenes(save_name)"
   ]
  },
  {
   "cell_type": "code",
   "execution_count": 19,
   "id": "6c55fa3d-4707-477c-8bdd-8328b5a7edde",
   "metadata": {},
   "outputs": [
    {
     "name": "stdout",
     "output_type": "stream",
     "text": [
      "2 scenes found.\n",
      "\n",
      "Dataset 1\n",
      "Acquisition Date : 2015-12-26 00:00:00\n",
      "Scene ID         : LC81250592015360LGN01\n",
      "Display ID       : LC08_L1TP_125059_20151226_20170331_01_T2\n",
      "Cloud Cover      : 16.10 %\n",
      "\n",
      "\n",
      "Dataset 2\n",
      "Acquisition Date : 2016-01-11 00:00:00\n",
      "Scene ID         : LC81250592016011LGN02\n",
      "Display ID       : LC08_L1TP_125059_20160111_20170405_01_T1\n",
      "Cloud Cover      : 40.09 %\n",
      "\n",
      "\n"
     ]
    }
   ],
   "source": [
    "scenes_summary(scenes, 5)"
   ]
  },
  {
   "cell_type": "code",
   "execution_count": 20,
   "id": "fbbf79c2-98ea-4c87-be39-ed77c972e822",
   "metadata": {},
   "outputs": [],
   "source": [
    "# level_1_datasets, level_2_datasets, orphan_datasets = split_scenes(scenes)"
   ]
  },
  {
   "cell_type": "code",
   "execution_count": 21,
   "id": "dee02fa9-8194-4def-a402-823ad4a08937",
   "metadata": {},
   "outputs": [],
   "source": [
    "# print(f'There are {len(level_1_datasets)} datasets.')\n",
    "# scenes_summary(level_1_datasets, 5)"
   ]
  },
  {
   "cell_type": "code",
   "execution_count": 22,
   "id": "203f5b04-7423-4fda-aaa6-2b02f66b8602",
   "metadata": {},
   "outputs": [],
   "source": [
    "# print(f'There are {len(level_2_datasets)} datasets.')\n",
    "# scenes_summary(level_2_datasets, 5)"
   ]
  },
  {
   "cell_type": "code",
   "execution_count": 23,
   "id": "73afd180-8ca1-4864-9bee-c8300a2c4df2",
   "metadata": {},
   "outputs": [],
   "source": [
    "# print(f'There are {len(orphan_datasets)} datasets.')\n",
    "# scenes_summary(orphan_datasets, 5)"
   ]
  },
  {
   "cell_type": "code",
   "execution_count": null,
   "id": "2c15ca7f-84d9-4b1a-bc4b-2495de7792c1",
   "metadata": {},
   "outputs": [
    {
     "name": "stdout",
     "output_type": "stream",
     "text": [
      "Downloading 1/2 - LC81250592015360LGN01 - LC08_L1TP_125059_20151226_20170331_01_T2 (Skipped 0)\n"
     ]
    },
    {
     "name": "stderr",
     "output_type": "stream",
     "text": [
      " 35%|███████████████████████████▊                                                   | 312M/886M [01:50<03:39, 2.74MB/s]"
     ]
    }
   ],
   "source": [
    "_ = download_scenes(scenes=scenes, \n",
    "                    username=USERNAME, \n",
    "                    password=PASSWORD, \n",
    "                    base_dir=DOWNLOAD_PATH, \n",
    "                    dataset_id=DATASET_ID, \n",
    "                    check_exist=True) "
   ]
  },
  {
   "cell_type": "code",
   "execution_count": null,
   "id": "413174c2-dcff-4db4-930f-c22227982e6a",
   "metadata": {},
   "outputs": [],
   "source": [
    "# !jupyter nbconvert --to script \"Landsat Download.ipynb\""
   ]
  }
 ],
 "metadata": {
  "kernelspec": {
   "display_name": "Python 3 (ipykernel)",
   "language": "python",
   "name": "python3"
  },
  "language_info": {
   "codemirror_mode": {
    "name": "ipython",
    "version": 3
   },
   "file_extension": ".py",
   "mimetype": "text/x-python",
   "name": "python",
   "nbconvert_exporter": "python",
   "pygments_lexer": "ipython3",
   "version": "3.9.13"
  }
 },
 "nbformat": 4,
 "nbformat_minor": 5
}
